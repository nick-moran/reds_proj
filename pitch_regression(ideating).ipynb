{
 "cells": [
  {
   "cell_type": "code",
   "execution_count": 30,
   "metadata": {},
   "outputs": [],
   "source": [
    "import pandas as pd\n",
    "import matplotlib.pyplot as plt\n",
    "from sklearn.manifold import TSNE\n",
    "from sklearn.decomposition import PCA\n",
    "from sklearn.preprocessing import StandardScaler\n",
    "import statsmodels.api as sm\n",
    "import numpy as np\n",
    "from scipy.stats import norm, foldnorm\n",
    "import pandas as pd\n",
    "import statsmodels.formula.api as smf"
   ]
  },
  {
   "cell_type": "code",
   "execution_count": 37,
   "metadata": {},
   "outputs": [
    {
     "data": {
      "text/html": [
       "<div>\n",
       "<style scoped>\n",
       "    .dataframe tbody tr th:only-of-type {\n",
       "        vertical-align: middle;\n",
       "    }\n",
       "\n",
       "    .dataframe tbody tr th {\n",
       "        vertical-align: top;\n",
       "    }\n",
       "\n",
       "    .dataframe thead th {\n",
       "        text-align: right;\n",
       "    }\n",
       "</style>\n",
       "<table border=\"1\" class=\"dataframe\">\n",
       "  <thead>\n",
       "    <tr style=\"text-align: right;\">\n",
       "      <th></th>\n",
       "      <th>PID</th>\n",
       "      <th>INNING_KEY</th>\n",
       "      <th>BATTER_IN_INNING_KEY</th>\n",
       "      <th>PITCH_NUMBER</th>\n",
       "      <th>OUT_KEY</th>\n",
       "      <th>BALLS</th>\n",
       "      <th>STRIKES</th>\n",
       "      <th>IS_RUNNER_ON_1B</th>\n",
       "      <th>IS_RUNNER_ON_2B</th>\n",
       "      <th>IS_RUNNER_ON_3B</th>\n",
       "      <th>...</th>\n",
       "      <th>SPIN_RATE_ABSOLUTE</th>\n",
       "      <th>RELEASE_SPEED</th>\n",
       "      <th>RELEASE_SIDE</th>\n",
       "      <th>RELEASE_HEIGHT</th>\n",
       "      <th>RELEASE_EXTENSION</th>\n",
       "      <th>HORIZONTAL_APPROACH_ANGLE</th>\n",
       "      <th>VERTICAL_APPROACH_ANGLE</th>\n",
       "      <th>PLATE_X</th>\n",
       "      <th>PLATE_Z</th>\n",
       "      <th>pk</th>\n",
       "    </tr>\n",
       "  </thead>\n",
       "  <tbody>\n",
       "    <tr>\n",
       "      <th>0</th>\n",
       "      <td>197</td>\n",
       "      <td>1</td>\n",
       "      <td>1</td>\n",
       "      <td>1</td>\n",
       "      <td>0</td>\n",
       "      <td>0</td>\n",
       "      <td>0</td>\n",
       "      <td>0</td>\n",
       "      <td>0</td>\n",
       "      <td>0</td>\n",
       "      <td>...</td>\n",
       "      <td>2402.459961</td>\n",
       "      <td>100.764999</td>\n",
       "      <td>-2.42717</td>\n",
       "      <td>6.08550</td>\n",
       "      <td>6.46</td>\n",
       "      <td>1.612990</td>\n",
       "      <td>-5.76003</td>\n",
       "      <td>0.197045</td>\n",
       "      <td>1.91282</td>\n",
       "      <td>668881</td>\n",
       "    </tr>\n",
       "    <tr>\n",
       "      <th>1</th>\n",
       "      <td>348</td>\n",
       "      <td>1</td>\n",
       "      <td>2</td>\n",
       "      <td>1</td>\n",
       "      <td>1</td>\n",
       "      <td>0</td>\n",
       "      <td>0</td>\n",
       "      <td>0</td>\n",
       "      <td>0</td>\n",
       "      <td>0</td>\n",
       "      <td>...</td>\n",
       "      <td>2273.459961</td>\n",
       "      <td>100.431000</td>\n",
       "      <td>-2.52253</td>\n",
       "      <td>5.97044</td>\n",
       "      <td>6.56</td>\n",
       "      <td>0.631016</td>\n",
       "      <td>-4.60990</td>\n",
       "      <td>-0.943079</td>\n",
       "      <td>2.87744</td>\n",
       "      <td>668881</td>\n",
       "    </tr>\n",
       "    <tr>\n",
       "      <th>2</th>\n",
       "      <td>1072</td>\n",
       "      <td>1</td>\n",
       "      <td>2</td>\n",
       "      <td>2</td>\n",
       "      <td>1</td>\n",
       "      <td>1</td>\n",
       "      <td>0</td>\n",
       "      <td>0</td>\n",
       "      <td>0</td>\n",
       "      <td>0</td>\n",
       "      <td>...</td>\n",
       "      <td>2314.459961</td>\n",
       "      <td>89.848999</td>\n",
       "      <td>-2.64242</td>\n",
       "      <td>5.89410</td>\n",
       "      <td>6.71</td>\n",
       "      <td>3.330480</td>\n",
       "      <td>-6.76551</td>\n",
       "      <td>0.012025</td>\n",
       "      <td>2.16833</td>\n",
       "      <td>668881</td>\n",
       "    </tr>\n",
       "    <tr>\n",
       "      <th>3</th>\n",
       "      <td>420</td>\n",
       "      <td>1</td>\n",
       "      <td>3</td>\n",
       "      <td>1</td>\n",
       "      <td>1</td>\n",
       "      <td>0</td>\n",
       "      <td>0</td>\n",
       "      <td>1</td>\n",
       "      <td>0</td>\n",
       "      <td>0</td>\n",
       "      <td>...</td>\n",
       "      <td>2340.459961</td>\n",
       "      <td>89.810997</td>\n",
       "      <td>-2.52429</td>\n",
       "      <td>5.90717</td>\n",
       "      <td>6.55</td>\n",
       "      <td>3.804230</td>\n",
       "      <td>-6.87764</td>\n",
       "      <td>0.584736</td>\n",
       "      <td>2.11319</td>\n",
       "      <td>668881</td>\n",
       "    </tr>\n",
       "    <tr>\n",
       "      <th>4</th>\n",
       "      <td>198</td>\n",
       "      <td>1</td>\n",
       "      <td>3</td>\n",
       "      <td>2</td>\n",
       "      <td>1</td>\n",
       "      <td>0</td>\n",
       "      <td>1</td>\n",
       "      <td>1</td>\n",
       "      <td>0</td>\n",
       "      <td>0</td>\n",
       "      <td>...</td>\n",
       "      <td>2445.459961</td>\n",
       "      <td>89.014397</td>\n",
       "      <td>-2.68096</td>\n",
       "      <td>6.10905</td>\n",
       "      <td>6.37</td>\n",
       "      <td>2.385210</td>\n",
       "      <td>-5.89879</td>\n",
       "      <td>-0.634335</td>\n",
       "      <td>3.45222</td>\n",
       "      <td>668881</td>\n",
       "    </tr>\n",
       "    <tr>\n",
       "      <th>...</th>\n",
       "      <td>...</td>\n",
       "      <td>...</td>\n",
       "      <td>...</td>\n",
       "      <td>...</td>\n",
       "      <td>...</td>\n",
       "      <td>...</td>\n",
       "      <td>...</td>\n",
       "      <td>...</td>\n",
       "      <td>...</td>\n",
       "      <td>...</td>\n",
       "      <td>...</td>\n",
       "      <td>...</td>\n",
       "      <td>...</td>\n",
       "      <td>...</td>\n",
       "      <td>...</td>\n",
       "      <td>...</td>\n",
       "      <td>...</td>\n",
       "      <td>...</td>\n",
       "      <td>...</td>\n",
       "      <td>...</td>\n",
       "      <td>...</td>\n",
       "    </tr>\n",
       "    <tr>\n",
       "      <th>9884</th>\n",
       "      <td>22663</td>\n",
       "      <td>9</td>\n",
       "      <td>4</td>\n",
       "      <td>2</td>\n",
       "      <td>2</td>\n",
       "      <td>1</td>\n",
       "      <td>0</td>\n",
       "      <td>1</td>\n",
       "      <td>0</td>\n",
       "      <td>0</td>\n",
       "      <td>...</td>\n",
       "      <td>2139.620117</td>\n",
       "      <td>92.623001</td>\n",
       "      <td>-2.01709</td>\n",
       "      <td>6.18892</td>\n",
       "      <td>5.81</td>\n",
       "      <td>2.164890</td>\n",
       "      <td>-4.58267</td>\n",
       "      <td>0.750023</td>\n",
       "      <td>3.40322</td>\n",
       "      <td>643361</td>\n",
       "    </tr>\n",
       "    <tr>\n",
       "      <th>9885</th>\n",
       "      <td>28642</td>\n",
       "      <td>9</td>\n",
       "      <td>4</td>\n",
       "      <td>3</td>\n",
       "      <td>2</td>\n",
       "      <td>1</td>\n",
       "      <td>1</td>\n",
       "      <td>1</td>\n",
       "      <td>0</td>\n",
       "      <td>0</td>\n",
       "      <td>...</td>\n",
       "      <td>2104.620117</td>\n",
       "      <td>88.973701</td>\n",
       "      <td>-2.22191</td>\n",
       "      <td>6.09663</td>\n",
       "      <td>5.71</td>\n",
       "      <td>3.371970</td>\n",
       "      <td>-5.39125</td>\n",
       "      <td>0.872825</td>\n",
       "      <td>3.17087</td>\n",
       "      <td>643361</td>\n",
       "    </tr>\n",
       "    <tr>\n",
       "      <th>9886</th>\n",
       "      <td>22664</td>\n",
       "      <td>9</td>\n",
       "      <td>4</td>\n",
       "      <td>4</td>\n",
       "      <td>2</td>\n",
       "      <td>2</td>\n",
       "      <td>1</td>\n",
       "      <td>1</td>\n",
       "      <td>0</td>\n",
       "      <td>0</td>\n",
       "      <td>...</td>\n",
       "      <td>2142.620117</td>\n",
       "      <td>92.265297</td>\n",
       "      <td>-1.99639</td>\n",
       "      <td>6.21051</td>\n",
       "      <td>5.83</td>\n",
       "      <td>0.063614</td>\n",
       "      <td>-5.65863</td>\n",
       "      <td>-0.988207</td>\n",
       "      <td>2.56097</td>\n",
       "      <td>643361</td>\n",
       "    </tr>\n",
       "    <tr>\n",
       "      <th>9887</th>\n",
       "      <td>22665</td>\n",
       "      <td>9</td>\n",
       "      <td>4</td>\n",
       "      <td>5</td>\n",
       "      <td>2</td>\n",
       "      <td>2</td>\n",
       "      <td>2</td>\n",
       "      <td>1</td>\n",
       "      <td>0</td>\n",
       "      <td>0</td>\n",
       "      <td>...</td>\n",
       "      <td>1968.619995</td>\n",
       "      <td>84.541603</td>\n",
       "      <td>-2.25819</td>\n",
       "      <td>6.13594</td>\n",
       "      <td>5.60</td>\n",
       "      <td>0.865016</td>\n",
       "      <td>-6.89677</td>\n",
       "      <td>-0.278290</td>\n",
       "      <td>2.14642</td>\n",
       "      <td>643361</td>\n",
       "    </tr>\n",
       "    <tr>\n",
       "      <th>9888</th>\n",
       "      <td>22666</td>\n",
       "      <td>9</td>\n",
       "      <td>5</td>\n",
       "      <td>1</td>\n",
       "      <td>2</td>\n",
       "      <td>0</td>\n",
       "      <td>0</td>\n",
       "      <td>0</td>\n",
       "      <td>1</td>\n",
       "      <td>1</td>\n",
       "      <td>...</td>\n",
       "      <td>2274.620117</td>\n",
       "      <td>94.140602</td>\n",
       "      <td>-1.97111</td>\n",
       "      <td>6.22186</td>\n",
       "      <td>5.74</td>\n",
       "      <td>1.831280</td>\n",
       "      <td>-6.11713</td>\n",
       "      <td>0.409872</td>\n",
       "      <td>1.98029</td>\n",
       "      <td>643361</td>\n",
       "    </tr>\n",
       "  </tbody>\n",
       "</table>\n",
       "<p>9889 rows × 27 columns</p>\n",
       "</div>"
      ],
      "text/plain": [
       "        PID  INNING_KEY  BATTER_IN_INNING_KEY  PITCH_NUMBER  OUT_KEY  BALLS  \\\n",
       "0       197           1                     1             1        0      0   \n",
       "1       348           1                     2             1        1      0   \n",
       "2      1072           1                     2             2        1      1   \n",
       "3       420           1                     3             1        1      0   \n",
       "4       198           1                     3             2        1      0   \n",
       "...     ...         ...                   ...           ...      ...    ...   \n",
       "9884  22663           9                     4             2        2      1   \n",
       "9885  28642           9                     4             3        2      1   \n",
       "9886  22664           9                     4             4        2      2   \n",
       "9887  22665           9                     4             5        2      2   \n",
       "9888  22666           9                     5             1        2      0   \n",
       "\n",
       "      STRIKES  IS_RUNNER_ON_1B  IS_RUNNER_ON_2B  IS_RUNNER_ON_3B  ...  \\\n",
       "0           0                0                0                0  ...   \n",
       "1           0                0                0                0  ...   \n",
       "2           0                0                0                0  ...   \n",
       "3           0                1                0                0  ...   \n",
       "4           1                1                0                0  ...   \n",
       "...       ...              ...              ...              ...  ...   \n",
       "9884        0                1                0                0  ...   \n",
       "9885        1                1                0                0  ...   \n",
       "9886        1                1                0                0  ...   \n",
       "9887        2                1                0                0  ...   \n",
       "9888        0                0                1                1  ...   \n",
       "\n",
       "      SPIN_RATE_ABSOLUTE RELEASE_SPEED RELEASE_SIDE RELEASE_HEIGHT  \\\n",
       "0            2402.459961    100.764999     -2.42717        6.08550   \n",
       "1            2273.459961    100.431000     -2.52253        5.97044   \n",
       "2            2314.459961     89.848999     -2.64242        5.89410   \n",
       "3            2340.459961     89.810997     -2.52429        5.90717   \n",
       "4            2445.459961     89.014397     -2.68096        6.10905   \n",
       "...                  ...           ...          ...            ...   \n",
       "9884         2139.620117     92.623001     -2.01709        6.18892   \n",
       "9885         2104.620117     88.973701     -2.22191        6.09663   \n",
       "9886         2142.620117     92.265297     -1.99639        6.21051   \n",
       "9887         1968.619995     84.541603     -2.25819        6.13594   \n",
       "9888         2274.620117     94.140602     -1.97111        6.22186   \n",
       "\n",
       "     RELEASE_EXTENSION  HORIZONTAL_APPROACH_ANGLE  VERTICAL_APPROACH_ANGLE  \\\n",
       "0                 6.46                   1.612990                 -5.76003   \n",
       "1                 6.56                   0.631016                 -4.60990   \n",
       "2                 6.71                   3.330480                 -6.76551   \n",
       "3                 6.55                   3.804230                 -6.87764   \n",
       "4                 6.37                   2.385210                 -5.89879   \n",
       "...                ...                        ...                      ...   \n",
       "9884              5.81                   2.164890                 -4.58267   \n",
       "9885              5.71                   3.371970                 -5.39125   \n",
       "9886              5.83                   0.063614                 -5.65863   \n",
       "9887              5.60                   0.865016                 -6.89677   \n",
       "9888              5.74                   1.831280                 -6.11713   \n",
       "\n",
       "       PLATE_X  PLATE_Z      pk  \n",
       "0     0.197045  1.91282  668881  \n",
       "1    -0.943079  2.87744  668881  \n",
       "2     0.012025  2.16833  668881  \n",
       "3     0.584736  2.11319  668881  \n",
       "4    -0.634335  3.45222  668881  \n",
       "...        ...      ...     ...  \n",
       "9884  0.750023  3.40322  643361  \n",
       "9885  0.872825  3.17087  643361  \n",
       "9886 -0.988207  2.56097  643361  \n",
       "9887 -0.278290  2.14642  643361  \n",
       "9888  0.409872  1.98029  643361  \n",
       "\n",
       "[9889 rows x 27 columns]"
      ]
     },
     "execution_count": 37,
     "metadata": {},
     "output_type": "execute_result"
    }
   ],
   "source": [
    "df = pd.read_csv(\"dew-point-pitching/data.csv\")\n",
    "df['pk'] = df['PITCHER_KEY'].apply(lambda x: str(x))\n",
    "df"
   ]
  },
  {
   "cell_type": "code",
   "execution_count": 25,
   "metadata": {},
   "outputs": [],
   "source": [
    "cols = ['THROW_SIDE_KEY', 'PITCH_TYPE_TRACKED_KEY', 'INDUCED_VERTICAL_BREAK', 'HORIZONTAL_BREAK', 'SPIN_RATE_ABSOLUTE', 'RELEASE_SPEED', 'RELEASE_SIDE', 'RELEASE_HEIGHT', 'RELEASE_EXTENSION', 'HORIZONTAL_APPROACH_ANGLE', 'VERTICAL_APPROACH_ANGLE', 'PLATE_X', 'PLATE_Z']\n",
    "data_cols = ['INDUCED_VERTICAL_BREAK', 'HORIZONTAL_BREAK', 'SPIN_RATE_ABSOLUTE', 'RELEASE_SPEED', 'RELEASE_SIDE', 'RELEASE_HEIGHT', 'RELEASE_EXTENSION', 'HORIZONTAL_APPROACH_ANGLE', 'VERTICAL_APPROACH_ANGLE', 'PLATE_X', 'PLATE_Z']\n",
    "data_cols_w_inning = ['INNING_KEY', 'INDUCED_VERTICAL_BREAK', 'HORIZONTAL_BREAK', 'SPIN_RATE_ABSOLUTE', 'RELEASE_SPEED', 'RELEASE_SIDE', 'RELEASE_HEIGHT', 'RELEASE_EXTENSION', 'HORIZONTAL_APPROACH_ANGLE', 'VERTICAL_APPROACH_ANGLE', 'PLATE_X', 'PLATE_Z']\n"
   ]
  },
  {
   "cell_type": "code",
   "execution_count": 90,
   "metadata": {},
   "outputs": [
    {
     "data": {
      "text/plain": [
       "array(['FB', 'SL', 'UN', 'SF', 'SI', 'SW', 'CH', 'CB', 'CF', 'KN'],\n",
       "      dtype=object)"
      ]
     },
     "execution_count": 90,
     "metadata": {},
     "output_type": "execute_result"
    }
   ],
   "source": [
    "pitch_types = df['PITCH_TYPE_TRACKED_KEY'].unique()\n",
    "pitch_types"
   ]
  },
  {
   "cell_type": "code",
   "execution_count": 122,
   "metadata": {},
   "outputs": [
    {
     "data": {
      "text/plain": [
       "218"
      ]
     },
     "execution_count": 122,
     "metadata": {},
     "output_type": "execute_result"
    }
   ],
   "source": [
    "# mask = (df['THROW_SIDE_KEY'] == 'R') & (df['PITCH_TYPE_TRACKED_KEY'] == 'SL')  & (df['PITCHER_KEY'] == 668881)\n",
    "mask =  (df['PITCH_TYPE_TRACKED_KEY'] == 'SL') & (df['PITCHER_KEY'] == 668881)\n",
    "specific_pitch = df[mask]\n",
    "specific_pitch = pd.get_dummies(specific_pitch)\n",
    "# mask\n",
    "# specific_pitch = specific_pitch[data_cols]\n",
    "len(specific_pitch)"
   ]
  },
  {
   "cell_type": "code",
   "execution_count": null,
   "metadata": {},
   "outputs": [],
   "source": [
    "specific_pitch.corr()"
   ]
  },
  {
   "cell_type": "code",
   "execution_count": null,
   "metadata": {},
   "outputs": [],
   "source": [
    "specific_pitch.corr()['HORIZONTAL_APPROACH_ANGLE'].sort_values(ascending=False)[1:]"
   ]
  },
  {
   "cell_type": "code",
   "execution_count": null,
   "metadata": {},
   "outputs": [],
   "source": [
    "specific_pitch.corr()['PLATE_X'].sort_values(ascending=False)[1:]"
   ]
  },
  {
   "cell_type": "code",
   "execution_count": 118,
   "metadata": {},
   "outputs": [
    {
     "name": "stdout",
     "output_type": "stream",
     "text": [
      "                            OLS Regression Results                            \n",
      "==============================================================================\n",
      "Dep. Variable:                      y   R-squared:                       1.000\n",
      "Model:                            OLS   Adj. R-squared:                    nan\n",
      "Method:                 Least Squares   F-statistic:                       nan\n",
      "Date:                Tue, 17 Oct 2023   Prob (F-statistic):                nan\n",
      "Time:                        20:00:22   Log-Likelihood:                 102.77\n",
      "No. Observations:                   3   AIC:                            -199.5\n",
      "Df Residuals:                       0   BIC:                            -202.3\n",
      "Df Model:                           2                                         \n",
      "Covariance Type:            nonrobust                                         \n",
      "=============================================================================================\n",
      "                                coef    std err          t      P>|t|      [0.025      0.975]\n",
      "---------------------------------------------------------------------------------------------\n",
      "const                         0.0053        inf          0        nan         nan         nan\n",
      "HORIZONTAL_APPROACH_ANGLE     1.1157        inf          0        nan         nan         nan\n",
      "HORIZONTAL_BREAK              0.1899        inf          0        nan         nan         nan\n",
      "RELEASE_HEIGHT                0.2539        inf          0        nan         nan         nan\n",
      "==============================================================================\n",
      "Omnibus:                          nan   Durbin-Watson:                   2.600\n",
      "Prob(Omnibus):                    nan   Jarque-Bera (JB):                0.296\n",
      "Skew:                          -0.173   Prob(JB):                        0.862\n",
      "Kurtosis:                       1.500   Cond. No.                         58.8\n",
      "==============================================================================\n",
      "\n",
      "Notes:\n",
      "[1] Standard Errors assume that the covariance matrix of the errors is correctly specified.\n",
      "[2] The input rank is higher than the number of observations.\n"
     ]
    },
    {
     "name": "stderr",
     "output_type": "stream",
     "text": [
      "/opt/miniconda3/envs/sci/lib/python3.9/site-packages/statsmodels/stats/stattools.py:74: ValueWarning: omni_normtest is not valid with less than 8 observations; 3 samples were given.\n",
      "  warn(\"omni_normtest is not valid with less than 8 observations; %i \"\n",
      "/opt/miniconda3/envs/sci/lib/python3.9/site-packages/statsmodels/regression/linear_model.py:1765: RuntimeWarning: divide by zero encountered in divide\n",
      "  return 1 - (np.divide(self.nobs - self.k_constant, self.df_resid)\n",
      "/opt/miniconda3/envs/sci/lib/python3.9/site-packages/statsmodels/regression/linear_model.py:1765: RuntimeWarning: invalid value encountered in double_scalars\n",
      "  return 1 - (np.divide(self.nobs - self.k_constant, self.df_resid)\n",
      "/opt/miniconda3/envs/sci/lib/python3.9/site-packages/statsmodels/regression/linear_model.py:1687: RuntimeWarning: divide by zero encountered in double_scalars\n",
      "  return np.dot(wresid, wresid) / self.df_resid\n"
     ]
    }
   ],
   "source": [
    "pitchers = [f'pk_{i}' for i in specific_pitch['PITCHER_KEY'].unique()[:-1]]\n",
    "\n",
    "x = specific_pitch[['HORIZONTAL_APPROACH_ANGLE', 'HORIZONTAL_BREAK', 'RELEASE_HEIGHT'] + pitchers]\n",
    "\n",
    "\n",
    "y = specific_pitch['PLATE_X'].to_numpy()\n",
    "\n",
    "x = sm.add_constant(x)\n",
    "result = sm.OLS(y,x).fit()\n",
    "print(result.summary())"
   ]
  },
  {
   "cell_type": "code",
   "execution_count": 101,
   "metadata": {},
   "outputs": [],
   "source": [
    "diff = y - np.array(result.predict(x))\n",
    "abs_diff = abs(diff)"
   ]
  },
  {
   "cell_type": "code",
   "execution_count": 102,
   "metadata": {},
   "outputs": [
    {
     "data": {
      "text/plain": [
       "[<matplotlib.lines.Line2D at 0x143898850>]"
      ]
     },
     "execution_count": 102,
     "metadata": {},
     "output_type": "execute_result"
    },
    {
     "data": {
      "image/png": "[encoded data removed]",
      "text/plain": [
       "<Figure size 432x288 with 1 Axes>"
      ]
     },
     "metadata": {
      "needs_background": "light"
     },
     "output_type": "display_data"
    }
   ],
   "source": [
    "plt.plot([i for i in range(len(diff))], np.sort(abs_diff))"
   ]
  },
  {
   "cell_type": "code",
   "execution_count": 103,
   "metadata": {},
   "outputs": [
    {
     "data": {
      "image/png": "[encoded data removed]",
      "text/plain": [
       "<Figure size 432x288 with 1 Axes>"
      ]
     },
     "metadata": {
      "needs_background": "light"
     },
     "output_type": "display_data"
    }
   ],
   "source": [
    "x_axis = np.arange(-.01, .65, 0.001)\n",
    "plt.hist(abs_diff, density=True)\n",
    "mu = np.mean(diff)\n",
    "std = np.std(diff)\n",
    "c = abs(mu) / std\n",
    "plt.plot(x_axis, foldnorm.pdf(x_axis, c, mu, std))\n",
    "plt.show()"
   ]
  },
  {
   "cell_type": "code",
   "execution_count": 85,
   "metadata": {},
   "outputs": [],
   "source": [
    "probs = foldnorm.cdf(abs_diff, c, mu, std) - foldnorm.cdf(0, c, mu, std)"
   ]
  },
  {
   "cell_type": "code",
   "execution_count": 86,
   "metadata": {},
   "outputs": [
    {
     "data": {
      "image/png": "[encoded data removed]",
      "text/plain": [
       "<Figure size 432x288 with 1 Axes>"
      ]
     },
     "metadata": {
      "needs_background": "light"
     },
     "output_type": "display_data"
    }
   ],
   "source": [
    "plt.boxplot(probs, vert=False)\n",
    "plt.show()"
   ]
  },
  {
   "cell_type": "code",
   "execution_count": null,
   "metadata": {},
   "outputs": [],
   "source": []
  }
 ],
 "metadata": {
  "kernelspec": {
   "display_name": "sci",
   "language": "python",
   "name": "python3"
  },
  "language_info": {
   "codemirror_mode": {
    "name": "ipython",
    "version": 3
   },
   "file_extension": ".py",
   "mimetype": "text/x-python",
   "name": "python",
   "nbconvert_exporter": "python",
   "pygments_lexer": "ipython3",
   "version": "3.9.12"
  }
 },
 "nbformat": 4,
 "nbformat_minor": 2
}
